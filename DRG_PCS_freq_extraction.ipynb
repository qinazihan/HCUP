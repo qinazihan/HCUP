{
 "cells": [
  {
   "cell_type": "code",
   "id": "initial_id",
   "metadata": {
    "collapsed": true,
    "ExecuteTime": {
     "end_time": "2025-06-22T23:39:53.968184Z",
     "start_time": "2025-06-22T23:39:45.908196Z"
    }
   },
   "source": [
    "import pandas as pd\n",
    "\n",
    "data = pd.read_csv('Sarah_Core.csv')\n",
    "PR_list = [f'I10_PR{i}' for i in range(1,26)]\n",
    "data = data[['DRG'] + PR_list]\n",
    "data.head()"
   ],
   "outputs": [
    {
     "name": "stderr",
     "output_type": "stream",
     "text": [
      "/var/folders/r9/p4wm07b97132b2lm9g78p_7r0000gn/T/ipykernel_94050/1122721286.py:3: DtypeWarning: Columns (10,11,12,13,14,15,16,17,18,19,20,21,22,23,24,25,26,27,28) have mixed types. Specify dtype option on import or set low_memory=False.\n",
      "  data = pd.read_csv('Sarah_Core.csv')\n"
     ]
    },
    {
     "data": {
      "text/plain": [
       "   DRG  I10_PR1  I10_PR2  I10_PR3  I10_PR4  I10_PR5  I10_PR6 I10_PR7 I10_PR8  \\\n",
       "0  330  0DTH0ZZ  0DTH0ZZ  0DNU4ZZ  0DNH4ZZ  0DNB4ZZ      NaN     NaN     NaN   \n",
       "1  785  10D00Z1  10D00Z1  0UT70ZZ  4A1HXCZ      NaN      NaN     NaN     NaN   \n",
       "2  807  10E0XZZ  10E0XZZ  0KQM0ZZ  4A1HXCZ  3E0DXGC  0U7C7ZZ     NaN     NaN   \n",
       "3  177      NaN      NaN      NaN      NaN      NaN      NaN     NaN     NaN   \n",
       "4  536      NaN      NaN      NaN      NaN      NaN      NaN     NaN     NaN   \n",
       "\n",
       "  I10_PR9  ... I10_PR16 I10_PR17 I10_PR18 I10_PR19 I10_PR20 I10_PR21 I10_PR22  \\\n",
       "0     NaN  ...      NaN      NaN      NaN      NaN      NaN      NaN      NaN   \n",
       "1     NaN  ...      NaN      NaN      NaN      NaN      NaN      NaN      NaN   \n",
       "2     NaN  ...      NaN      NaN      NaN      NaN      NaN      NaN      NaN   \n",
       "3     NaN  ...      NaN      NaN      NaN      NaN      NaN      NaN      NaN   \n",
       "4     NaN  ...      NaN      NaN      NaN      NaN      NaN      NaN      NaN   \n",
       "\n",
       "  I10_PR23 I10_PR24 I10_PR25  \n",
       "0      NaN      NaN      NaN  \n",
       "1      NaN      NaN      NaN  \n",
       "2      NaN      NaN      NaN  \n",
       "3      NaN      NaN      NaN  \n",
       "4      NaN      NaN      NaN  \n",
       "\n",
       "[5 rows x 26 columns]"
      ],
      "text/html": [
       "<div>\n",
       "<style scoped>\n",
       "    .dataframe tbody tr th:only-of-type {\n",
       "        vertical-align: middle;\n",
       "    }\n",
       "\n",
       "    .dataframe tbody tr th {\n",
       "        vertical-align: top;\n",
       "    }\n",
       "\n",
       "    .dataframe thead th {\n",
       "        text-align: right;\n",
       "    }\n",
       "</style>\n",
       "<table border=\"1\" class=\"dataframe\">\n",
       "  <thead>\n",
       "    <tr style=\"text-align: right;\">\n",
       "      <th></th>\n",
       "      <th>DRG</th>\n",
       "      <th>I10_PR1</th>\n",
       "      <th>I10_PR2</th>\n",
       "      <th>I10_PR3</th>\n",
       "      <th>I10_PR4</th>\n",
       "      <th>I10_PR5</th>\n",
       "      <th>I10_PR6</th>\n",
       "      <th>I10_PR7</th>\n",
       "      <th>I10_PR8</th>\n",
       "      <th>I10_PR9</th>\n",
       "      <th>...</th>\n",
       "      <th>I10_PR16</th>\n",
       "      <th>I10_PR17</th>\n",
       "      <th>I10_PR18</th>\n",
       "      <th>I10_PR19</th>\n",
       "      <th>I10_PR20</th>\n",
       "      <th>I10_PR21</th>\n",
       "      <th>I10_PR22</th>\n",
       "      <th>I10_PR23</th>\n",
       "      <th>I10_PR24</th>\n",
       "      <th>I10_PR25</th>\n",
       "    </tr>\n",
       "  </thead>\n",
       "  <tbody>\n",
       "    <tr>\n",
       "      <th>0</th>\n",
       "      <td>330</td>\n",
       "      <td>0DTH0ZZ</td>\n",
       "      <td>0DTH0ZZ</td>\n",
       "      <td>0DNU4ZZ</td>\n",
       "      <td>0DNH4ZZ</td>\n",
       "      <td>0DNB4ZZ</td>\n",
       "      <td>NaN</td>\n",
       "      <td>NaN</td>\n",
       "      <td>NaN</td>\n",
       "      <td>NaN</td>\n",
       "      <td>...</td>\n",
       "      <td>NaN</td>\n",
       "      <td>NaN</td>\n",
       "      <td>NaN</td>\n",
       "      <td>NaN</td>\n",
       "      <td>NaN</td>\n",
       "      <td>NaN</td>\n",
       "      <td>NaN</td>\n",
       "      <td>NaN</td>\n",
       "      <td>NaN</td>\n",
       "      <td>NaN</td>\n",
       "    </tr>\n",
       "    <tr>\n",
       "      <th>1</th>\n",
       "      <td>785</td>\n",
       "      <td>10D00Z1</td>\n",
       "      <td>10D00Z1</td>\n",
       "      <td>0UT70ZZ</td>\n",
       "      <td>4A1HXCZ</td>\n",
       "      <td>NaN</td>\n",
       "      <td>NaN</td>\n",
       "      <td>NaN</td>\n",
       "      <td>NaN</td>\n",
       "      <td>NaN</td>\n",
       "      <td>...</td>\n",
       "      <td>NaN</td>\n",
       "      <td>NaN</td>\n",
       "      <td>NaN</td>\n",
       "      <td>NaN</td>\n",
       "      <td>NaN</td>\n",
       "      <td>NaN</td>\n",
       "      <td>NaN</td>\n",
       "      <td>NaN</td>\n",
       "      <td>NaN</td>\n",
       "      <td>NaN</td>\n",
       "    </tr>\n",
       "    <tr>\n",
       "      <th>2</th>\n",
       "      <td>807</td>\n",
       "      <td>10E0XZZ</td>\n",
       "      <td>10E0XZZ</td>\n",
       "      <td>0KQM0ZZ</td>\n",
       "      <td>4A1HXCZ</td>\n",
       "      <td>3E0DXGC</td>\n",
       "      <td>0U7C7ZZ</td>\n",
       "      <td>NaN</td>\n",
       "      <td>NaN</td>\n",
       "      <td>NaN</td>\n",
       "      <td>...</td>\n",
       "      <td>NaN</td>\n",
       "      <td>NaN</td>\n",
       "      <td>NaN</td>\n",
       "      <td>NaN</td>\n",
       "      <td>NaN</td>\n",
       "      <td>NaN</td>\n",
       "      <td>NaN</td>\n",
       "      <td>NaN</td>\n",
       "      <td>NaN</td>\n",
       "      <td>NaN</td>\n",
       "    </tr>\n",
       "    <tr>\n",
       "      <th>3</th>\n",
       "      <td>177</td>\n",
       "      <td>NaN</td>\n",
       "      <td>NaN</td>\n",
       "      <td>NaN</td>\n",
       "      <td>NaN</td>\n",
       "      <td>NaN</td>\n",
       "      <td>NaN</td>\n",
       "      <td>NaN</td>\n",
       "      <td>NaN</td>\n",
       "      <td>NaN</td>\n",
       "      <td>...</td>\n",
       "      <td>NaN</td>\n",
       "      <td>NaN</td>\n",
       "      <td>NaN</td>\n",
       "      <td>NaN</td>\n",
       "      <td>NaN</td>\n",
       "      <td>NaN</td>\n",
       "      <td>NaN</td>\n",
       "      <td>NaN</td>\n",
       "      <td>NaN</td>\n",
       "      <td>NaN</td>\n",
       "    </tr>\n",
       "    <tr>\n",
       "      <th>4</th>\n",
       "      <td>536</td>\n",
       "      <td>NaN</td>\n",
       "      <td>NaN</td>\n",
       "      <td>NaN</td>\n",
       "      <td>NaN</td>\n",
       "      <td>NaN</td>\n",
       "      <td>NaN</td>\n",
       "      <td>NaN</td>\n",
       "      <td>NaN</td>\n",
       "      <td>NaN</td>\n",
       "      <td>...</td>\n",
       "      <td>NaN</td>\n",
       "      <td>NaN</td>\n",
       "      <td>NaN</td>\n",
       "      <td>NaN</td>\n",
       "      <td>NaN</td>\n",
       "      <td>NaN</td>\n",
       "      <td>NaN</td>\n",
       "      <td>NaN</td>\n",
       "      <td>NaN</td>\n",
       "      <td>NaN</td>\n",
       "    </tr>\n",
       "  </tbody>\n",
       "</table>\n",
       "<p>5 rows × 26 columns</p>\n",
       "</div>"
      ]
     },
     "execution_count": 1,
     "metadata": {},
     "output_type": "execute_result"
    }
   ],
   "execution_count": 1
  },
  {
   "metadata": {
    "ExecuteTime": {
     "end_time": "2025-06-22T23:40:40.054962Z",
     "start_time": "2025-06-22T23:39:53.992872Z"
    }
   },
   "cell_type": "code",
   "source": [
    "if (data[PR_list].count(axis=1) == data[PR_list].nunique(axis=1, dropna=True)).all():\n",
    "    print(\"✅ Every PCS appears at most once per row across PR columns.\")\n",
    "else:\n",
    "    print(\"⚠️ There are rows with duplicate PCS codes.\")"
   ],
   "id": "3f9ef7bcdc55f549",
   "outputs": [
    {
     "name": "stdout",
     "output_type": "stream",
     "text": [
      "⚠️ There are rows with duplicate PCS codes.\n"
     ]
    }
   ],
   "execution_count": 2
  },
  {
   "metadata": {
    "ExecuteTime": {
     "end_time": "2025-06-22T23:40:42.355440Z",
     "start_time": "2025-06-22T23:40:40.114729Z"
    }
   },
   "cell_type": "code",
   "source": [
    "unique_PCSs = {\n",
    "    c: set(data[c].dropna().unique())\n",
    "    for c in PR_list\n",
    "}\n",
    "unique_PCSs = sorted(list(set().union(*unique_PCSs.values())))\n",
    "DRG_list = sorted(list(data['DRG'].unique()))"
   ],
   "id": "418692ce7d8610f5",
   "outputs": [],
   "execution_count": 3
  },
  {
   "metadata": {
    "ExecuteTime": {
     "end_time": "2025-06-22T23:44:02.234514Z",
     "start_time": "2025-06-22T23:40:42.373690Z"
    }
   },
   "cell_type": "code",
   "source": [
    "appearance_freq = pd.DataFrame(columns=['Total'] + unique_PCSs)\n",
    "PCS_code_freq = pd.DataFrame(columns=['Total'] + unique_PCSs)\n",
    "\n",
    "from collections import Counter\n",
    "from tqdm.auto import tqdm\n",
    "import warnings\n",
    "warnings.filterwarnings(\n",
    "    \"ignore\",\n",
    "    category=FutureWarning,\n",
    "    message=\".*previous implementation of stack is deprecated.*\"\n",
    ")\n",
    "\n",
    "\n",
    "for DRG in tqdm(DRG_list, desc=\"Processing DRGs\"):\n",
    "    sub = data.loc[data['DRG'] == DRG].drop(columns='DRG')\n",
    "    DRG_ct = len(sub)\n",
    "    \n",
    "    s = sub.stack(dropna=True)  \n",
    "    code_counts = s.value_counts()  \n",
    "    row_to_codes = (s.reset_index(level=1, drop=True)        \n",
    "                      .groupby(level=0)                 \n",
    "                      .agg(lambda sr: set(sr.values)) )     \n",
    "    \n",
    "    row_counter = Counter()\n",
    "    for code_set in row_to_codes:\n",
    "        row_counter.update(code_set)\n",
    "    row_counts = pd.Series(row_counter) \n",
    "    \n",
    "    appearance_freq.loc[DRG, row_counts.index] = row_counts\n",
    "    appearance_freq.loc[DRG, 'Total']    = DRG_ct\n",
    "    \n",
    "    PCS_code_freq.loc[DRG, code_counts.index] = code_counts\n",
    "    PCS_code_freq.loc[DRG, 'Total']          = int(code_counts.sum())\n",
    "    \n",
    "PCS_code_freq.index.name = 'DRG'\n",
    "appearance_freq.index.name = 'DRG'\n",
    "\n",
    "PCS_code_freq.to_csv('PCS_code_freq.csv', index=True, header=True)\n",
    "appearance_freq.to_csv('appearance_freq.csv', index=True, header=True)"
   ],
   "id": "17b38fbd25cbdef8",
   "outputs": [
    {
     "name": "stderr",
     "output_type": "stream",
     "text": [
      "/opt/anaconda3/envs/dailyuse/lib/python3.11/site-packages/tqdm/auto.py:21: TqdmWarning: IProgress not found. Please update jupyter and ipywidgets. See https://ipywidgets.readthedocs.io/en/stable/user_install.html\n",
      "  from .autonotebook import tqdm as notebook_tqdm\n",
      "Processing DRGs: 100%|██████████| 767/767 [03:06<00:00,  4.11it/s]\n"
     ]
    }
   ],
   "execution_count": 4
  },
  {
   "metadata": {
    "ExecuteTime": {
     "end_time": "2025-06-22T23:44:02.241939Z",
     "start_time": "2025-06-22T23:44:02.240209Z"
    }
   },
   "cell_type": "code",
   "source": "",
   "id": "95fe737834843fea",
   "outputs": [],
   "execution_count": null
  }
 ],
 "metadata": {
  "kernelspec": {
   "display_name": "Python 3",
   "language": "python",
   "name": "python3"
  },
  "language_info": {
   "codemirror_mode": {
    "name": "ipython",
    "version": 2
   },
   "file_extension": ".py",
   "mimetype": "text/x-python",
   "name": "python",
   "nbconvert_exporter": "python",
   "pygments_lexer": "ipython2",
   "version": "2.7.6"
  }
 },
 "nbformat": 4,
 "nbformat_minor": 5
}
